{
 "cells": [
  {
   "cell_type": "code",
   "execution_count": 2,
   "id": "0d61c9c1",
   "metadata": {},
   "outputs": [],
   "source": [
    "import numpy as np\n",
    "import matplotlib.pyplot as plt\n",
    "import pandas as pd\n",
    "import seaborn as sns\n",
    "from sklearn.model_selection import train_test_split\n",
    "from matplotlib import pyplot\n",
    "import feather\n",
    "import warnings\n",
    "warnings.filterwarnings('ignore')"
   ]
  },
  {
   "cell_type": "code",
   "execution_count": 8,
   "id": "2a711e92",
   "metadata": {},
   "outputs": [],
   "source": [
    "df = pd.read_csv(\"Iowa_Liquor_Sales.csv\")"
   ]
  },
  {
   "cell_type": "code",
   "execution_count": 12,
   "id": "2752c6b7",
   "metadata": {},
   "outputs": [
    {
     "data": {
      "text/html": [
       "<div>\n",
       "<style scoped>\n",
       "    .dataframe tbody tr th:only-of-type {\n",
       "        vertical-align: middle;\n",
       "    }\n",
       "\n",
       "    .dataframe tbody tr th {\n",
       "        vertical-align: top;\n",
       "    }\n",
       "\n",
       "    .dataframe thead th {\n",
       "        text-align: right;\n",
       "    }\n",
       "</style>\n",
       "<table border=\"1\" class=\"dataframe\">\n",
       "  <thead>\n",
       "    <tr style=\"text-align: right;\">\n",
       "      <th></th>\n",
       "      <th>Invoice/Item Number</th>\n",
       "      <th>Date</th>\n",
       "      <th>Store Number</th>\n",
       "      <th>Store Name</th>\n",
       "      <th>Address</th>\n",
       "      <th>City</th>\n",
       "      <th>Zip Code</th>\n",
       "      <th>Store Location</th>\n",
       "      <th>County Number</th>\n",
       "      <th>County</th>\n",
       "      <th>Category</th>\n",
       "      <th>Category Name</th>\n",
       "      <th>Vendor Number</th>\n",
       "      <th>Vendor Name</th>\n",
       "      <th>Item Number</th>\n",
       "      <th>Item Description</th>\n",
       "      <th>Pack</th>\n",
       "      <th>Bottle Volume (ml)</th>\n",
       "      <th>State Bottle Cost</th>\n",
       "      <th>State Bottle Retail</th>\n",
       "      <th>Bottles Sold</th>\n",
       "      <th>Sale (Dollars)</th>\n",
       "      <th>Volume Sold (Liters)</th>\n",
       "      <th>Volume Sold (Gallons)</th>\n",
       "    </tr>\n",
       "  </thead>\n",
       "  <tbody>\n",
       "    <tr>\n",
       "      <th>0</th>\n",
       "      <td>INV-24071700025</td>\n",
       "      <td>12/20/2019</td>\n",
       "      <td>4252</td>\n",
       "      <td>Fareway Stores #840 / Monticello</td>\n",
       "      <td>433 N Farley St</td>\n",
       "      <td>Monticello</td>\n",
       "      <td>52310.0</td>\n",
       "      <td>POINT (-91.191385 42.241939)</td>\n",
       "      <td>53.0</td>\n",
       "      <td>JONES</td>\n",
       "      <td>1011400.0</td>\n",
       "      <td>Tennessee Whiskies</td>\n",
       "      <td>85.0</td>\n",
       "      <td>Brown Forman Corp.</td>\n",
       "      <td>86670</td>\n",
       "      <td>Jack Daniels Tennessee Honey</td>\n",
       "      <td>12</td>\n",
       "      <td>750</td>\n",
       "      <td>15.57</td>\n",
       "      <td>23.36</td>\n",
       "      <td>3</td>\n",
       "      <td>70.08</td>\n",
       "      <td>2.25</td>\n",
       "      <td>0.59</td>\n",
       "    </tr>\n",
       "    <tr>\n",
       "      <th>1</th>\n",
       "      <td>INV-24089200003</td>\n",
       "      <td>12/20/2019</td>\n",
       "      <td>4541</td>\n",
       "      <td>Casey's General Store #1045 / Delmar</td>\n",
       "      <td>502 Market</td>\n",
       "      <td>Delmar</td>\n",
       "      <td>52037.0</td>\n",
       "      <td>POINT (-90.606669 42.003648)</td>\n",
       "      <td>23.0</td>\n",
       "      <td>CLINTON</td>\n",
       "      <td>1011100.0</td>\n",
       "      <td>Blended Whiskies</td>\n",
       "      <td>260.0</td>\n",
       "      <td>DIAGEO AMERICAS</td>\n",
       "      <td>25606</td>\n",
       "      <td>Seagrams 7 Crown</td>\n",
       "      <td>12</td>\n",
       "      <td>750</td>\n",
       "      <td>7.50</td>\n",
       "      <td>11.25</td>\n",
       "      <td>6</td>\n",
       "      <td>67.50</td>\n",
       "      <td>4.50</td>\n",
       "      <td>1.18</td>\n",
       "    </tr>\n",
       "    <tr>\n",
       "      <th>2</th>\n",
       "      <td>INV-24107200133</td>\n",
       "      <td>12/23/2019</td>\n",
       "      <td>2508</td>\n",
       "      <td>Hy-Vee Food Store #1 / Cedar Rapids</td>\n",
       "      <td>1843 Johnson Avenue, N.W.</td>\n",
       "      <td>Cedar Rapids</td>\n",
       "      <td>52405.0</td>\n",
       "      <td>POINT (-91.697941 41.97447)</td>\n",
       "      <td>57.0</td>\n",
       "      <td>LINN</td>\n",
       "      <td>1041100.0</td>\n",
       "      <td>American Dry Gins</td>\n",
       "      <td>370.0</td>\n",
       "      <td>PERNOD RICARD USA</td>\n",
       "      <td>32236</td>\n",
       "      <td>Seagrams Extra Dry Gin</td>\n",
       "      <td>12</td>\n",
       "      <td>750</td>\n",
       "      <td>6.49</td>\n",
       "      <td>9.74</td>\n",
       "      <td>12</td>\n",
       "      <td>116.88</td>\n",
       "      <td>9.00</td>\n",
       "      <td>2.37</td>\n",
       "    </tr>\n",
       "    <tr>\n",
       "      <th>3</th>\n",
       "      <td>INV-24090200052</td>\n",
       "      <td>12/20/2019</td>\n",
       "      <td>2649</td>\n",
       "      <td>Hy-Vee #3 / Dubuque</td>\n",
       "      <td>400 Locust St</td>\n",
       "      <td>Dubuque</td>\n",
       "      <td>52001.0</td>\n",
       "      <td>POINT (-90.666497 42.49721900000001)</td>\n",
       "      <td>31.0</td>\n",
       "      <td>DUBUQUE</td>\n",
       "      <td>1011400.0</td>\n",
       "      <td>Tennessee Whiskies</td>\n",
       "      <td>85.0</td>\n",
       "      <td>Brown Forman Corp.</td>\n",
       "      <td>26826</td>\n",
       "      <td>Jack Daniels Old #7 Black Label</td>\n",
       "      <td>12</td>\n",
       "      <td>750</td>\n",
       "      <td>15.57</td>\n",
       "      <td>23.36</td>\n",
       "      <td>12</td>\n",
       "      <td>280.32</td>\n",
       "      <td>9.00</td>\n",
       "      <td>2.37</td>\n",
       "    </tr>\n",
       "    <tr>\n",
       "      <th>4</th>\n",
       "      <td>INV-24074100018</td>\n",
       "      <td>12/20/2019</td>\n",
       "      <td>5660</td>\n",
       "      <td>North Side Liquor &amp; Tobacco / Dubuque</td>\n",
       "      <td>2013 Central Ave</td>\n",
       "      <td>Dubuque</td>\n",
       "      <td>52001.0</td>\n",
       "      <td>POINT (-90.670151 42.5116)</td>\n",
       "      <td>31.0</td>\n",
       "      <td>DUBUQUE</td>\n",
       "      <td>1052100.0</td>\n",
       "      <td>Imported Brandies</td>\n",
       "      <td>389.0</td>\n",
       "      <td>REMY COINTREAU USA INC</td>\n",
       "      <td>49185</td>\n",
       "      <td>Remy Martin VSOP Flask</td>\n",
       "      <td>12</td>\n",
       "      <td>375</td>\n",
       "      <td>11.82</td>\n",
       "      <td>17.73</td>\n",
       "      <td>24</td>\n",
       "      <td>425.52</td>\n",
       "      <td>9.00</td>\n",
       "      <td>2.37</td>\n",
       "    </tr>\n",
       "  </tbody>\n",
       "</table>\n",
       "</div>"
      ],
      "text/plain": [
       "  Invoice/Item Number        Date  Store Number  \\\n",
       "0     INV-24071700025  12/20/2019          4252   \n",
       "1     INV-24089200003  12/20/2019          4541   \n",
       "2     INV-24107200133  12/23/2019          2508   \n",
       "3     INV-24090200052  12/20/2019          2649   \n",
       "4     INV-24074100018  12/20/2019          5660   \n",
       "\n",
       "                              Store Name                    Address  \\\n",
       "0       Fareway Stores #840 / Monticello            433 N Farley St   \n",
       "1   Casey's General Store #1045 / Delmar                 502 Market   \n",
       "2    Hy-Vee Food Store #1 / Cedar Rapids  1843 Johnson Avenue, N.W.   \n",
       "3                    Hy-Vee #3 / Dubuque              400 Locust St   \n",
       "4  North Side Liquor & Tobacco / Dubuque           2013 Central Ave   \n",
       "\n",
       "           City Zip Code                        Store Location  County Number  \\\n",
       "0    Monticello  52310.0          POINT (-91.191385 42.241939)           53.0   \n",
       "1        Delmar  52037.0          POINT (-90.606669 42.003648)           23.0   \n",
       "2  Cedar Rapids  52405.0           POINT (-91.697941 41.97447)           57.0   \n",
       "3       Dubuque  52001.0  POINT (-90.666497 42.49721900000001)           31.0   \n",
       "4       Dubuque  52001.0            POINT (-90.670151 42.5116)           31.0   \n",
       "\n",
       "    County   Category       Category Name  Vendor Number  \\\n",
       "0    JONES  1011400.0  Tennessee Whiskies           85.0   \n",
       "1  CLINTON  1011100.0    Blended Whiskies          260.0   \n",
       "2     LINN  1041100.0   American Dry Gins          370.0   \n",
       "3  DUBUQUE  1011400.0  Tennessee Whiskies           85.0   \n",
       "4  DUBUQUE  1052100.0   Imported Brandies          389.0   \n",
       "\n",
       "              Vendor Name Item Number                 Item Description  Pack  \\\n",
       "0      Brown Forman Corp.       86670     Jack Daniels Tennessee Honey    12   \n",
       "1         DIAGEO AMERICAS       25606                 Seagrams 7 Crown    12   \n",
       "2       PERNOD RICARD USA       32236           Seagrams Extra Dry Gin    12   \n",
       "3      Brown Forman Corp.       26826  Jack Daniels Old #7 Black Label    12   \n",
       "4  REMY COINTREAU USA INC       49185           Remy Martin VSOP Flask    12   \n",
       "\n",
       "   Bottle Volume (ml)  State Bottle Cost  State Bottle Retail  Bottles Sold  \\\n",
       "0                 750              15.57                23.36             3   \n",
       "1                 750               7.50                11.25             6   \n",
       "2                 750               6.49                 9.74            12   \n",
       "3                 750              15.57                23.36            12   \n",
       "4                 375              11.82                17.73            24   \n",
       "\n",
       "   Sale (Dollars)  Volume Sold (Liters)  Volume Sold (Gallons)  \n",
       "0           70.08                  2.25                   0.59  \n",
       "1           67.50                  4.50                   1.18  \n",
       "2          116.88                  9.00                   2.37  \n",
       "3          280.32                  9.00                   2.37  \n",
       "4          425.52                  9.00                   2.37  "
      ]
     },
     "execution_count": 12,
     "metadata": {},
     "output_type": "execute_result"
    }
   ],
   "source": [
    "pd.set_option('display.max_columns', None)\n",
    "pd.set_option('display.max_rows', None)\n",
    "df.head()"
   ]
  },
  {
   "cell_type": "markdown",
   "id": "ec443c66",
   "metadata": {},
   "source": [
    "# Changing Dtype"
   ]
  },
  {
   "cell_type": "code",
   "execution_count": 13,
   "id": "4f5d7573",
   "metadata": {
    "scrolled": true
   },
   "outputs": [
    {
     "name": "stdout",
     "output_type": "stream",
     "text": [
      "<class 'pandas.core.frame.DataFrame'>\n",
      "RangeIndex: 23563860 entries, 0 to 23563859\n",
      "Data columns (total 24 columns):\n",
      " #   Column                 Dtype  \n",
      "---  ------                 -----  \n",
      " 0   Invoice/Item Number    object \n",
      " 1   Date                   object \n",
      " 2   Store Number           int64  \n",
      " 3   Store Name             object \n",
      " 4   Address                object \n",
      " 5   City                   object \n",
      " 6   Zip Code               object \n",
      " 7   Store Location         object \n",
      " 8   County Number          float64\n",
      " 9   County                 object \n",
      " 10  Category               float64\n",
      " 11  Category Name          object \n",
      " 12  Vendor Number          float64\n",
      " 13  Vendor Name            object \n",
      " 14  Item Number            object \n",
      " 15  Item Description       object \n",
      " 16  Pack                   int64  \n",
      " 17  Bottle Volume (ml)     int64  \n",
      " 18  State Bottle Cost      float64\n",
      " 19  State Bottle Retail    float64\n",
      " 20  Bottles Sold           int64  \n",
      " 21  Sale (Dollars)         float64\n",
      " 22  Volume Sold (Liters)   float64\n",
      " 23  Volume Sold (Gallons)  float64\n",
      "dtypes: float64(8), int64(4), object(12)\n",
      "memory usage: 4.2+ GB\n"
     ]
    }
   ],
   "source": [
    "df.info()"
   ]
  },
  {
   "cell_type": "code",
   "execution_count": 24,
   "id": "ee5fd70c",
   "metadata": {},
   "outputs": [],
   "source": [
    "numcol = [\"Store Number\", \"Zip Code\", \"County Number\", \"Category\", \n",
    "          \"Vendor Number\", \"Item Number\", \"Pack\", \"Bottle Volume (ml)\", \"State Bottle Cost\", \"State Bottle Retail\",\n",
    "         \"Bottles Sold\", \"Sale (Dollars)\", \"Volume Sold (Liters)\", \"Volume Sold (Gallons)\"]\n",
    "\n",
    "datecols = [\"Date\"]\n",
    "\n",
    "unsure = [\"Invoice/Item Number\"]\n",
    "\n",
    "catcol = []"
   ]
  },
  {
   "cell_type": "code",
   "execution_count": 36,
   "id": "610f26ab",
   "metadata": {},
   "outputs": [],
   "source": [
    "#change object -> date format\n",
    "for i in datecols:\n",
    "    df[i] =  pd.to_datetime(df[i], format=\"%m/%d/%Y\")"
   ]
  },
  {
   "cell_type": "code",
   "execution_count": 32,
   "id": "dc443653",
   "metadata": {},
   "outputs": [],
   "source": [
    "#change object -> numeric\n",
    "#Using errors='coerce'. It will replace all non-numeric values with NaN.\n",
    "\n",
    "for i in numcol:\n",
    "    df[i] = pd.to_numeric(df[i], errors='coerce')"
   ]
  },
  {
   "cell_type": "code",
   "execution_count": 17,
   "id": "89b2cf8c",
   "metadata": {
    "scrolled": false
   },
   "outputs": [
    {
     "data": {
      "text/plain": [
       "array(['INV-24071700025', 'INV-24089200003', 'INV-24107200133', ...,\n",
       "       'INV-24095000011', 'INV-24102500081', 'INV-24112800019'],\n",
       "      dtype=object)"
      ]
     },
     "execution_count": 17,
     "metadata": {},
     "output_type": "execute_result"
    }
   ],
   "source": [
    "#maybe leave as is\n",
    "df[\"Invoice/Item Number\"].unique()"
   ]
  },
  {
   "cell_type": "code",
   "execution_count": 37,
   "id": "ca379cdb",
   "metadata": {
    "scrolled": true
   },
   "outputs": [
    {
     "name": "stdout",
     "output_type": "stream",
     "text": [
      "<class 'pandas.core.frame.DataFrame'>\n",
      "RangeIndex: 23563860 entries, 0 to 23563859\n",
      "Data columns (total 24 columns):\n",
      " #   Column                 Dtype         \n",
      "---  ------                 -----         \n",
      " 0   Invoice/Item Number    object        \n",
      " 1   Date                   datetime64[ns]\n",
      " 2   Store Number           int32         \n",
      " 3   Store Name             object        \n",
      " 4   Address                object        \n",
      " 5   City                   object        \n",
      " 6   Zip Code               float64       \n",
      " 7   Store Location         object        \n",
      " 8   County Number          float64       \n",
      " 9   County                 object        \n",
      " 10  Category               float64       \n",
      " 11  Category Name          object        \n",
      " 12  Vendor Number          float64       \n",
      " 13  Vendor Name            object        \n",
      " 14  Item Number            float64       \n",
      " 15  Item Description       object        \n",
      " 16  Pack                   int64         \n",
      " 17  Bottle Volume (ml)     int64         \n",
      " 18  State Bottle Cost      float64       \n",
      " 19  State Bottle Retail    float64       \n",
      " 20  Bottles Sold           int64         \n",
      " 21  Sale (Dollars)         float64       \n",
      " 22  Volume Sold (Liters)   float64       \n",
      " 23  Volume Sold (Gallons)  float64       \n",
      "dtypes: datetime64[ns](1), float64(10), int32(1), int64(3), object(9)\n",
      "memory usage: 4.1+ GB\n"
     ]
    }
   ],
   "source": [
    "df.info()"
   ]
  },
  {
   "cell_type": "markdown",
   "id": "0a55c79d",
   "metadata": {},
   "source": [
    "### Checking if these are float for a reason"
   ]
  },
  {
   "cell_type": "code",
   "execution_count": 14,
   "id": "bbd20163",
   "metadata": {
    "scrolled": true
   },
   "outputs": [
    {
     "data": {
      "text/plain": [
       "array([53., 23., 57., 31., 94., 82.,  7., 88., 39., 85., 70., 63., 52.,\n",
       "       77.,  6., 91., 40., 59., 11.,  2., 96.,  3.,  4., 16., 46., 61.,\n",
       "       49., 78., 66., 35., 76., 42., 13., 14., 15., 79., 81., 60., 48.,\n",
       "       47., 38., 20., 17., 18., 68., 64., 25.,  1.,  8., 45., 98., 22.,\n",
       "       12., 87., 37., 69., 21.,  9., 19., 71., 34., 55., 84., 50., nan,\n",
       "       24., 97., 33., 29., 62., 56., 65., 43., 67., 86., 95., 10., 41.,\n",
       "       83., 99., 75., 72., 28., 32., 74.,  5., 51., 90., 89., 54., 73.,\n",
       "       92., 30., 26., 58., 44., 93., 27., 36., 80.])"
      ]
     },
     "execution_count": 14,
     "metadata": {},
     "output_type": "execute_result"
    }
   ],
   "source": [
    "#checking it doesn't need to be a float -> int\n",
    "df[\"County Number\"].unique()"
   ]
  },
  {
   "cell_type": "code",
   "execution_count": 15,
   "id": "4fbc1d6a",
   "metadata": {
    "scrolled": false
   },
   "outputs": [
    {
     "data": {
      "text/plain": [
       "array([1011400., 1011100., 1041100., 1052100., 1031100., 1011200.,\n",
       "       1062400., 1081300., 1071100., 1031200., 1012100., 1032200.,\n",
       "       1082200., 1062500., 1022200., 1081200., 1022100., 1032100.,\n",
       "       1901200., 1082000., 1091200., 1051100.,      nan, 1081400.,\n",
       "       1012400., 1081600., 1011300., 1701100., 1062300., 1081100.,\n",
       "       1012200., 1011600., 1092100., 1012300., 1062200., 1062100.,\n",
       "       1081500., 1041300., 1042100., 1091100., 1041200., 1091300.,\n",
       "       1011500., 1011700., 1011800., 1022300., 1092000., 1082100.,\n",
       "       1081000., 1031000., 1700000., 1090000., 1012000., 1032000.,\n",
       "       1091000., 1070000., 1070100., 1042000., 1011000., 1031080.,\n",
       "       1062310., 1032080., 1052010., 1051140., 1081010., 1051150.,\n",
       "       1051110., 1081700., 1081330., 1051010., 1081370., 1081390.,\n",
       "       1081355., 1081335., 1081315., 1012210., 1081020., 1082900.,\n",
       "       1081305., 1900000., 1091400., 1081900., 1081220., 1081240.,\n",
       "       1101100., 1081030., 1081365., 1062050., 1081015., 1081317.,\n",
       "       1031090., 1081312., 1081210., 1081380., 1081350., 1041150.,\n",
       "       1081230., 1051120., 1081340., 1011250., 1031110., 1082015.,\n",
       "       1082010., 1082390., 1901100., 1062250., 1701200., 1081250.,\n",
       "       1501100., 1032230., 1082300.,  101220., 1089290.])"
      ]
     },
     "execution_count": 15,
     "metadata": {},
     "output_type": "execute_result"
    }
   ],
   "source": [
    "#checking it doesn't need to be a float -> int\n",
    "df[\"Category\"].unique()"
   ]
  },
  {
   "cell_type": "code",
   "execution_count": 16,
   "id": "2154f077",
   "metadata": {
    "scrolled": true
   },
   "outputs": [
    {
     "data": {
      "text/plain": [
       "array([ 85., 260., 370., 389., 297.,  65., 259., 322.,  35., 421., 395.,\n",
       "       115., 380., 301., 410.,  55., 434., 619., 239., 420., 192., 521.,\n",
       "       492., 305., 330., 205., 300., 240., 130., 306., 125., 353., 209.,\n",
       "       255., 554., 384., 566., 216., 578., 261., 285., 402., 557., 266.,\n",
       "       229., 346., 368., 277., 154., 482., 594., 214., 308., 267., 583.,\n",
       "       325., 287., 195.,  91., 525., 586., 121., 116., 357., 394., 536.,\n",
       "       232., 971., 342., 208., 479., 469., 283., 163., 338., 451., 552.,\n",
       "       567., 110., 460., 112., 564., 231., 978., 294., 565., 497., 577.,\n",
       "       313.,  90., 363., 215.,  86., 391., 269., 513., 582., 273., 184.,\n",
       "       481., 549., 584., 235., 608.,  33., 207., 258., 606., 217., 573.,\n",
       "       293., 803., 609., 212.,  79., 108., 511., 528., 617., 620., 268.,\n",
       "       226., 399., 347., 254., 477., 333., 448., 311., 422., 561., 607.,\n",
       "       558., 626., 888., 742., 654., 493., 118., 645., 736., 437., 661.,\n",
       "       662., 641., 539., 642., 589., 390., 649., 706., 204., 655., 545.,\n",
       "       515., 886., 569., 473., 684., 164., 114., 428., 280., 547., 150.,\n",
       "       618., 555., 633., 677., 198., 574., 478., 560., 623., 161., 962.,\n",
       "       456., 341., 624., 343., 657., 688., 580., 647., 705., 690., 187.,\n",
       "       698., 411., 659., 244., 611., 614., 472., 459., 439., 631., 644.,\n",
       "        nan, 256., 348., 625., 634., 675., 673., 890., 233., 415., 702.,\n",
       "       745., 556., 731., 747., 671., 334., 495., 553., 650., 686., 772.,\n",
       "       685., 656., 638.,  69., 753., 749., 694., 351., 312., 540., 505.,\n",
       "       408., 398., 754., 646., 727., 329., 699., 426., 336., 734., 710.,\n",
       "       537., 100., 770., 712., 769., 777., 758., 774., 768., 766., 414.,\n",
       "       636., 461., 491., 519., 295., 223., 603., 317., 127., 602., 249.,\n",
       "       423., 138., 251., 290., 136., 621., 156., 629., 431., 643., 531.,\n",
       "       418., 969., 284., 350., 298., 160., 101., 355., 516., 885., 442.,\n",
       "       977., 190., 503., 381.,  10., 107., 210., 375., 376., 373., 288.,\n",
       "       227., 365., 358., 379., 224., 185., 310., 359., 166., 128., 369.,\n",
       "       211., 279., 274., 407., 155., 559., 507., 548., 506., 282., 575.,\n",
       "       520., 324., 397., 585., 538., 425., 146., 234., 337., 318., 349.,\n",
       "       501., 435., 436., 543., 470., 512., 510., 522., 523., 524., 220.,\n",
       "       452., 281., 246., 315., 111., 206., 250., 413., 483., 377.,  80.,\n",
       "       109., 203., 496.,  89., 270., 446., 122., 104., 367., 158., 374.,\n",
       "       465.,  61., 361., 432., 447., 987., 197., 463., 307., 143., 194.,\n",
       "       487., 504., 191., 278., 263., 252., 119., 137., 386., 462., 475.,\n",
       "        14., 488.,  27., 372., 485., 476.,  68., 113., 140., 102., 714.,\n",
       "       502.,  82., 196., 486.,  51., 468., 592., 600., 591., 356., 622.])"
      ]
     },
     "execution_count": 16,
     "metadata": {},
     "output_type": "execute_result"
    }
   ],
   "source": [
    "#checking it doesn't need to be a float -> int\n",
    "df[\"Vendor Number\"].unique()"
   ]
  },
  {
   "cell_type": "code",
   "execution_count": 45,
   "id": "0c313d7e",
   "metadata": {},
   "outputs": [
    {
     "data": {
      "text/plain": [
       "array([ 86670.,  25606.,  32236., ..., 927636., 977977., 973855.])"
      ]
     },
     "execution_count": 45,
     "metadata": {},
     "output_type": "execute_result"
    }
   ],
   "source": [
    "df[\"Item Number\"].unique() "
   ]
  },
  {
   "cell_type": "code",
   "execution_count": 44,
   "id": "3c88c563",
   "metadata": {},
   "outputs": [
    {
     "data": {
      "text/plain": [
       "array([  2.25,   4.5 ,   9.  , ..., 285.  ,  95.25, 225.75])"
      ]
     },
     "execution_count": 44,
     "metadata": {},
     "output_type": "execute_result"
    }
   ],
   "source": [
    "#float valid\n",
    "df[\"Volume Sold (Liters)\"].unique() "
   ]
  },
  {
   "cell_type": "code",
   "execution_count": 46,
   "id": "e83451cc",
   "metadata": {},
   "outputs": [
    {
     "data": {
      "text/plain": [
       "array([ 0.59,  1.18,  2.37, ..., 75.28, 25.16, 59.63])"
      ]
     },
     "execution_count": 46,
     "metadata": {},
     "output_type": "execute_result"
    }
   ],
   "source": [
    "#float valid\n",
    "df[\"Volume Sold (Gallons)\"].unique() "
   ]
  },
  {
   "cell_type": "code",
   "execution_count": 49,
   "id": "718e9b18",
   "metadata": {},
   "outputs": [],
   "source": [
    "floattoint = [\"Zip Code\", \"County Number\", \"Category\", \"Vendor Number\", \"Item Number\"]\n",
    "\n",
    "for i in floattoint:\n",
    "    df[i] = df[i].astype(\"Int64\")"
   ]
  },
  {
   "cell_type": "markdown",
   "id": "a3af4a07",
   "metadata": {},
   "source": [
    "# Feather format"
   ]
  },
  {
   "cell_type": "code",
   "execution_count": 33,
   "id": "33597db1",
   "metadata": {},
   "outputs": [],
   "source": [
    "#cannot change from csv to feather without changing dtype first\n",
    "path = 'df.feather'\n",
    "feather.write_dataframe(df, path)\n",
    "df = feather.read_dataframe(path)"
   ]
  },
  {
   "cell_type": "markdown",
   "id": "97b63a1c",
   "metadata": {},
   "source": [
    "# Missing values"
   ]
  },
  {
   "cell_type": "code",
   "execution_count": 50,
   "id": "63d93d83",
   "metadata": {},
   "outputs": [
    {
     "data": {
      "text/plain": [
       "Invoice/Item Number            0\n",
       "Date                           0\n",
       "Store Number                   0\n",
       "Store Name                     0\n",
       "Address                    80211\n",
       "City                       80210\n",
       "Zip Code                   88195\n",
       "Store Location           2325327\n",
       "County Number             157015\n",
       "County                    157013\n",
       "Category                   16974\n",
       "Category Name              25040\n",
       "Vendor Number                  9\n",
       "Vendor Name                    7\n",
       "Item Number                    3\n",
       "Item Description               0\n",
       "Pack                           0\n",
       "Bottle Volume (ml)             0\n",
       "State Bottle Cost             10\n",
       "State Bottle Retail           10\n",
       "Bottles Sold                   0\n",
       "Sale (Dollars)                10\n",
       "Volume Sold (Liters)           0\n",
       "Volume Sold (Gallons)          0\n",
       "dtype: int64"
      ]
     },
     "execution_count": 50,
     "metadata": {},
     "output_type": "execute_result"
    }
   ],
   "source": [
    "df.isnull().sum()"
   ]
  },
  {
   "cell_type": "code",
   "execution_count": 51,
   "id": "4c66a7e0",
   "metadata": {},
   "outputs": [
    {
     "data": {
      "image/png": "[encoded data removed]",
      "text/plain": [
       "<Figure size 432x288 with 1 Axes>"
      ]
     },
     "metadata": {
      "needs_background": "light"
     },
     "output_type": "display_data"
    }
   ],
   "source": [
    "missingvals = df.isnull().sum()\n",
    "missingvals = missingvals[missingvals > 0]\n",
    "missingvals.sort_values(inplace=True, ascending = False)\n",
    "missingvals.plot.bar()\n",
    "\n",
    "plt.yscale(\"log\")"
   ]
  },
  {
   "cell_type": "markdown",
   "id": "c8ccd1bf",
   "metadata": {},
   "source": [
    "## Missing value percentage\n",
    "- None of the columns are missing over 40% of data -> don't need to drop any columns"
   ]
  },
  {
   "cell_type": "code",
   "execution_count": 52,
   "id": "cfbedb86",
   "metadata": {},
   "outputs": [
    {
     "data": {
      "text/plain": [
       "Store Location         9.868192\n",
       "County Number          0.666338\n",
       "County                 0.666330\n",
       "Zip Code               0.374281\n",
       "Address                0.340398\n",
       "City                   0.340394\n",
       "Category Name          0.106264\n",
       "Category               0.072034\n",
       "State Bottle Cost      0.000042\n",
       "State Bottle Retail    0.000042\n",
       "Sale (Dollars)         0.000042\n",
       "Vendor Number          0.000038\n",
       "Vendor Name            0.000030\n",
       "Item Number            0.000013\n",
       "dtype: float64"
      ]
     },
     "execution_count": 52,
     "metadata": {},
     "output_type": "execute_result"
    }
   ],
   "source": [
    "null_counts = df.isnull().sum() / df.shape[0] * 100\n",
    "null_counts[null_counts > 0].sort_values(ascending=False) "
   ]
  },
  {
   "cell_type": "code",
   "execution_count": null,
   "id": "31035230",
   "metadata": {},
   "outputs": [],
   "source": []
  }
 ],
 "metadata": {
  "kernelspec": {
   "display_name": "Python 3 (ipykernel)",
   "language": "python",
   "name": "python3"
  },
  "language_info": {
   "codemirror_mode": {
    "name": "ipython",
    "version": 3
   },
   "file_extension": ".py",
   "mimetype": "text/x-python",
   "name": "python",
   "nbconvert_exporter": "python",
   "pygments_lexer": "ipython3",
   "version": "3.9.7"
  }
 },
 "nbformat": 4,
 "nbformat_minor": 5
}
